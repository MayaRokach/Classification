{
 "cells": [
  {
   "cell_type": "code",
   "execution_count": 24,
   "metadata": {},
   "outputs": [],
   "source": [
    "import numpy as np # linear algebra\n",
    "import pandas as pd # data processing, CSV file I/O (e.g. pd.read_csv)\n",
    "import matplotlib.pyplot as plt\n",
    "import seaborn as sns\n",
    "# %matplotlib inline\n",
    "from sklearn.cluster import KMeans\n",
    "import sklearn\n",
    "from sklearn.model_selection import train_test_split\n",
    "from sklearn.preprocessing import StandardScaler\n",
    "#Import models\n",
    "from sklearn.linear_model import LogisticRegression\n",
    "from sklearn.neighbors import KNeighborsClassifier\n",
    "from sklearn.ensemble import RandomForestClassifier\n",
    "from sklearn import svm\n",
    "from sklearn.svm import SVC\n",
    "#Model evaluation\n",
    "from sklearn.model_selection import train_test_split\n",
    "from sklearn.model_selection import RandomizedSearchCV, GridSearchCV\n",
    "from sklearn.metrics import confusion_matrix, classification_report\n",
    "from sklearn.metrics import precision_score, recall_score,f1_score\n",
    "from sklearn.metrics import plot_roc_curve\n",
    "from sklearn.metrics import classification_report\n",
    "\n",
    "#OPTIMIZONG MODELS\n",
    "from sklearn.model_selection import RandomizedSearchCV, GridSearchCV\n"
   ]
  },
  {
   "cell_type": "code",
   "execution_count": 22,
   "metadata": {},
   "outputs": [],
   "source": [
    "data = pd.read_csv(r'C:\\Users\\Maya\\school\\second year\\semester B\\Data Minning\\music_proj\\data\\spotify_data_genre_cleaned.csv')\n",
    "\n",
    "data = data[data.genre != 'A Capella']"
   ]
  },
  {
   "cell_type": "code",
   "execution_count": 7,
   "metadata": {},
   "outputs": [
    {
     "name": "stdout",
     "output_type": "stream",
     "text": [
      "the genres are ['Movie', 'R&B', 'Alternative', 'Country', 'Dance', 'Electronic', 'Anime', 'Folk', 'Blues', 'Opera', 'Hip-Hop', \"Children's Music\", 'Rap', 'Indie', 'Classical', 'Pop', 'Reggae', 'Reggaeton', 'Jazz', 'Rock', 'Ska', 'Comedy', 'Soul', 'Soundtrack', 'World']\n",
      "there are 25 genres.\n"
     ]
    }
   ],
   "source": [
    "Z = data[['genre','acousticness','danceability','energy','instrumentalness','liveness','loudness','speechiness','tempo','valence']]\n",
    "CHARACTERISTICS = ['acousticness','danceability','energy','instrumentalness','liveness','loudness','speechiness','tempo','valence']\n",
    "GENRES = data[\"genre\"].unique().tolist()\n",
    "print('the genres are:', GENRES)\n",
    "print('there are', len(GENRES), 'genres.')\n"
   ]
  },
  {
   "cell_type": "code",
   "execution_count": 8,
   "metadata": {},
   "outputs": [],
   "source": [
    "def char_differneces_between_genres(genres, characteristics):\n",
    "    \"\"\"\n",
    "    This functions genrates bar plot for each genre showing genres average characteristics.\n",
    "    :param genres list\n",
    "    :param characteristics list\n",
    "    :return: 27 barplots for 27 different genres.\n",
    "    \"\"\"\n",
    "    for genre in genres:\n",
    "        plt.rcParams['font.size'] = '5'\n",
    "        X_filtered = Z.query(f\"genre == '{genre}'\")\n",
    "        means_list = []\n",
    "        for character in characteristics:\n",
    "            X_mean = X_filtered[character].mean()\n",
    "            means_list.append(X_mean)\n",
    "        means_list[-2] = means_list[-2]/100\n",
    "        means_list[-4] = means_list[-4] / 10\n",
    "        y_pos = np.arange(len(characteristics))\n",
    "        plt.bar(y_pos, means_list, align='center', width=0.8, color=(0.2, 0.4, 0.6, 0.6))\n",
    "        # Create names on the x-axis\n",
    "        plt.xticks(y_pos, characteristics)\n",
    "        plt.title(f\"{genre} characteristic distribution\")\n",
    "        plt.xlabel('characteristics')\n",
    "        plt.ylabel('mean values')\n",
    "        # Show graphic\n",
    "        plt.show()\n"
   ]
  },
  {
   "cell_type": "code",
   "execution_count": 9,
   "metadata": {},
   "outputs": [],
   "source": [
    "def create_hist():\n",
    "    bar_cols = data[['genre','key','mode','time_signature']].columns.values\n",
    "    for col in bar_cols:\n",
    "        df_temp = data.groupby([col]).size().reset_index(name='count')\n",
    "        print(df_temp)\n",
    "        print(df_temp)\n",
    "        plt.figure(figsize=(18,8))\n",
    "        plt.xticks(rotation=45)\n",
    "        sns.set_style(\"ticks\")\n",
    "        sns.barplot(data = df_temp, x= col, y= 'count')\n",
    "        plt.show()\n"
   ]
  },
  {
   "cell_type": "code",
   "execution_count": 10,
   "metadata": {},
   "outputs": [],
   "source": [
    "def col_correlations():\n",
    "    plt.figure(figsize=(10,8))\n",
    "    sns.heatmap(data.corr(),annot=True)\n",
    "    plt.show()"
   ]
  },
  {
   "cell_type": "code",
   "execution_count": 11,
   "metadata": {},
   "outputs": [],
   "source": [
    "def data_description():\n",
    "    description_table = data.describe()\n",
    "    print(description_table)"
   ]
  },
  {
   "cell_type": "code",
   "execution_count": 13,
   "metadata": {},
   "outputs": [],
   "source": [
    "def drop_irrelevant_features():\n",
    "    \"\"\"\n",
    "    this function drop the irrelevant features for genre classificatiion\n",
    "    :return: dataframe without columns: 'artist name', 'track name', 'track id'\n",
    "    \"\"\"\n",
    "    unused_col = ['artist_name', 'track_name', 'track_id', 'time_signature']\n",
    "    df = data.drop(columns=unused_col).reset_index(drop=True)\n",
    "    return df\n",
    "\n",
    "relevant_data = drop_irrelevant_features()"
   ]
  },
  {
   "cell_type": "code",
   "execution_count": 15,
   "metadata": {},
   "outputs": [],
   "source": [
    "def convert_to_numeric_only(df):\n",
    "    mode_dict = {'Major': 1, 'Minor': 0}\n",
    "    key_dict = {'C': 1, 'C#': 2, 'D': 3, 'D#': 4, 'E': 5, 'F': 6,\n",
    "                'F#': 7, 'G': 9, 'G#': 10, 'A': 11, 'A#': 12, 'B': 12} # maybe entrances with no key\n",
    "    genre_dict = {'Movie': 1, 'R&B': 2, 'A Capella': 3, 'Alternative': 4, 'Country': 5, 'Dance': 6, 'Electronic': 7, 'Anime': 8, 'Folk': 9, 'Blues': 10, 'Opera': 11, 'Hip-Hop': 12, \"Children's Music\": 13, 'Rap': 14, 'Indie': 15, 'Classical': 16, 'Pop': 17, 'Reggae': 18, 'Reggaeton': 19, 'Jazz': 20, 'Rock': 21, 'Ska': 22, 'Comedy': 23, 'Soul': 24, 'Soundtrack': 25, 'World': 26}\n",
    "    # time_signature_dict = {'4/4': 4, '5/4': 5, '6/4': 6, '7/4': 7}\n",
    "\n",
    "    # df['time_signature'] = df['time_signature'].replace(time_signature_dict)\n",
    "    df['mode'] = df['mode'].replace(mode_dict).astype(int)\n",
    "    df['key'] = df['key'].replace(key_dict).astype(int)\n",
    "    df['genre'] = df['genre'].replace(genre_dict).astype(int)\n",
    "    return df\n",
    "\n",
    "df = convert_to_numeric_only(relevant_data)"
   ]
  },
  {
   "cell_type": "code",
   "execution_count": 16,
   "metadata": {},
   "outputs": [],
   "source": [
    "#let's define our features and labels:\n",
    "X = df.iloc[:, 3:]\n",
    "y = df.iloc[:, 2]\n",
    "X_train, X_test, y_train, y_test = train_test_split(X, y, test_size=0.2, random_state=13)"
   ]
  },
  {
   "cell_type": "code",
   "execution_count": 17,
   "metadata": {},
   "outputs": [
    {
     "name": "stdout",
     "output_type": "stream",
     "text": [
      "coefficient of Logistic Regression determination is:  0.02712695068999613\n"
     ]
    },
    {
     "name": "stderr",
     "output_type": "stream",
     "text": [
      "c:\\Users\\Maya\\anaconda3\\lib\\site-packages\\sklearn\\linear_model\\_logistic.py:814: ConvergenceWarning: lbfgs failed to converge (status=1):\n",
      "STOP: TOTAL NO. of ITERATIONS REACHED LIMIT.\n",
      "\n",
      "Increase the number of iterations (max_iter) or scale the data as shown in:\n",
      "    https://scikit-learn.org/stable/modules/preprocessing.html\n",
      "Please also refer to the documentation for alternative solver options:\n",
      "    https://scikit-learn.org/stable/modules/linear_model.html#logistic-regression\n",
      "  n_iter_i = _check_optimize_result(\n"
     ]
    }
   ],
   "source": [
    "#fit the logistic regression to the data\n",
    "LR_model = LogisticRegression().fit(X_train,y_train)\n",
    "\n",
    "#print the coefficient of determination:\n",
    "LR_model_score = LR_model.score(X_test, y_test)\n",
    "print('coefficient of Logistic Regression determination is: ', LR_model_score)"
   ]
  },
  {
   "cell_type": "code",
   "execution_count": 18,
   "metadata": {},
   "outputs": [
    {
     "name": "stdout",
     "output_type": "stream",
     "text": [
      "coefficient of KNN determination is:  0.1085507931731224\n"
     ]
    }
   ],
   "source": [
    "KNN_model = KNeighborsClassifier().fit(X_train, y_train)\n",
    "KNN_model_score = KNN_model.score(X_test, y_test)\n",
    "print('coefficient of KNN determination is: ', KNN_model_score)"
   ]
  },
  {
   "cell_type": "code",
   "execution_count": 21,
   "metadata": {},
   "outputs": [
    {
     "name": "stdout",
     "output_type": "stream",
     "text": [
      "coefficient of Random Forest determination is:  0.2845320493529943\n"
     ]
    }
   ],
   "source": [
    "RF_model = RandomForestClassifier().fit(X_train, y_train)\n",
    "RF_model_score = RF_model.score(X_test, y_test)\n",
    "print('coefficient of Random Forest determination is: ', RF_model_score)"
   ]
  },
  {
   "cell_type": "code",
   "execution_count": 27,
   "metadata": {},
   "outputs": [
    {
     "name": "stdout",
     "output_type": "stream",
     "text": [
      "Parameters currently in use:\n",
      "\n",
      "{'bootstrap': True, 'ccp_alpha': 0.0, 'class_weight': None, 'criterion': 'gini', 'max_depth': None, 'max_features': 'auto', 'max_leaf_nodes': None, 'max_samples': None, 'min_impurity_decrease': 0.0, 'min_samples_leaf': 1, 'min_samples_split': 2, 'min_weight_fraction_leaf': 0.0, 'n_estimators': 100, 'n_jobs': None, 'oob_score': False, 'random_state': None, 'verbose': 0, 'warm_start': False}\n"
     ]
    }
   ],
   "source": [
    "print('Parameters currently in use:\\n')\n",
    "print(RF_model.get_params())"
   ]
  }
 ],
 "metadata": {
  "interpreter": {
   "hash": "b2928ea14877cf80bccffb8a145ecc8fd918e2c530e30747c2a6ee0082c08e0d"
  },
  "kernelspec": {
   "display_name": "Python 3.9.12 ('base')",
   "language": "python",
   "name": "python3"
  },
  "language_info": {
   "codemirror_mode": {
    "name": "ipython",
    "version": 3
   },
   "file_extension": ".py",
   "mimetype": "text/x-python",
   "name": "python",
   "nbconvert_exporter": "python",
   "pygments_lexer": "ipython3",
   "version": "3.9.12"
  },
  "orig_nbformat": 4
 },
 "nbformat": 4,
 "nbformat_minor": 2
}
